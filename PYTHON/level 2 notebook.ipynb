{
 "cells": [
  {
   "cell_type": "code",
   "execution_count": 9,
   "id": "712b847b",
   "metadata": {},
   "outputs": [],
   "source": [
    "#Scopes\n",
    "#LEGB Rule\n",
    "# Local\n",
    "# Enclosing Func\n",
    "# Global\n",
    "# Built In Keyword\n",
    "\n",
    "# Level can be defined by the same indentation Level"
   ]
  },
  {
   "cell_type": "code",
   "execution_count": 6,
   "id": "64e2344d",
   "metadata": {},
   "outputs": [],
   "source": [
    "sum = lambda x,y : x-y \n",
    "\n",
    "def report(a,b):\n",
    "    sum = lambda x,y : x*y\n",
    "    return sum(a,b)"
   ]
  },
  {
   "cell_type": "code",
   "execution_count": 10,
   "id": "a0f56fbd",
   "metadata": {},
   "outputs": [
    {
     "data": {
      "text/plain": [
       "6"
      ]
     },
     "execution_count": 10,
     "metadata": {},
     "output_type": "execute_result"
    }
   ],
   "source": [
    "report(2,3)"
   ]
  },
  {
   "cell_type": "code",
   "execution_count": 8,
   "id": "b03a0ae1",
   "metadata": {},
   "outputs": [
    {
     "data": {
      "text/plain": [
       "-1"
      ]
     },
     "execution_count": 8,
     "metadata": {},
     "output_type": "execute_result"
    }
   ],
   "source": [
    "sum(2,3)"
   ]
  },
  {
   "cell_type": "code",
   "execution_count": null,
   "id": "81143f7c",
   "metadata": {},
   "outputs": [],
   "source": [
    "# Decorators"
   ]
  }
 ],
 "metadata": {
  "kernelspec": {
   "display_name": "Python 3",
   "language": "python",
   "name": "python3"
  },
  "language_info": {
   "codemirror_mode": {
    "name": "ipython",
    "version": 3
   },
   "file_extension": ".py",
   "mimetype": "text/x-python",
   "name": "python",
   "nbconvert_exporter": "python",
   "pygments_lexer": "ipython3",
   "version": "3.9.5"
  }
 },
 "nbformat": 4,
 "nbformat_minor": 5
}
