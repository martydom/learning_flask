{
 "cells": [
  {
   "cell_type": "code",
   "execution_count": 9,
   "id": "712b847b",
   "metadata": {},
   "outputs": [],
   "source": [
    "#Scopes\n",
    "#LEGB Rule\n",
    "# Local\n",
    "# Enclosing Func\n",
    "# Global\n",
    "# Built In Keyword\n",
    "\n",
    "# Level can be defined by the same indentation Level"
   ]
  },
  {
   "cell_type": "code",
   "execution_count": 6,
   "id": "64e2344d",
   "metadata": {},
   "outputs": [],
   "source": [
    "sum = lambda x,y : x-y \n",
    "\n",
    "def report(a,b):\n",
    "    sum = lambda x,y : x*y\n",
    "    return sum(a,b)"
   ]
  },
  {
   "cell_type": "code",
   "execution_count": 10,
   "id": "a0f56fbd",
   "metadata": {},
   "outputs": [
    {
     "data": {
      "text/plain": [
       "6"
      ]
     },
     "execution_count": 10,
     "metadata": {},
     "output_type": "execute_result"
    }
   ],
   "source": [
    "report(2,3)"
   ]
  },
  {
   "cell_type": "code",
   "execution_count": 8,
   "id": "b03a0ae1",
   "metadata": {},
   "outputs": [
    {
     "data": {
      "text/plain": [
       "-1"
      ]
     },
     "execution_count": 8,
     "metadata": {},
     "output_type": "execute_result"
    }
   ],
   "source": [
    "sum(2,3)"
   ]
  },
  {
   "cell_type": "code",
   "execution_count": null,
   "id": "81143f7c",
   "metadata": {},
   "outputs": [],
   "source": [
    "# Decorators"
   ]
  },
  {
   "cell_type": "code",
   "execution_count": 10,
   "id": "a007208f",
   "metadata": {},
   "outputs": [
    {
     "name": "stdout",
     "output_type": "stream",
     "text": [
      "the hello() function has been run\n"
     ]
    }
   ],
   "source": [
    "def hello(name=\"Deva\"):\n",
    "    print(\"the hello() function has been run\")\n",
    "    \n",
    "    \n",
    "    def greet():\n",
    "        return \"This is inside greet\"\n",
    "    \n",
    "    def welcome():\n",
    "        return \"This is inside welcome\"\n",
    "    \n",
    "    if name.lower() ==\"deva\":\n",
    "        return greet\n",
    "    else:\n",
    "        return welcome\n",
    "    \n",
    "x = hello(\"Greet\")"
   ]
  },
  {
   "cell_type": "code",
   "execution_count": 11,
   "id": "2987e534",
   "metadata": {},
   "outputs": [
    {
     "data": {
      "text/plain": [
       "'This is inside welcome'"
      ]
     },
     "execution_count": 11,
     "metadata": {},
     "output_type": "execute_result"
    }
   ],
   "source": [
    "x()"
   ]
  },
  {
   "cell_type": "code",
   "execution_count": 1,
   "id": "c0b7d92d",
   "metadata": {},
   "outputs": [],
   "source": [
    "def hello():\n",
    "    return \"Hi Deva\"\n",
    "def other(func):\n",
    "    print(\"Other Code\")\n",
    "    print(func())"
   ]
  },
  {
   "cell_type": "code",
   "execution_count": 2,
   "id": "a0ac7c7b",
   "metadata": {},
   "outputs": [
    {
     "name": "stdout",
     "output_type": "stream",
     "text": [
      "Other Code\n",
      "Hi Deva\n"
     ]
    }
   ],
   "source": [
    "other(hello)"
   ]
  },
  {
   "cell_type": "code",
   "execution_count": 3,
   "id": "10cf3ed9",
   "metadata": {},
   "outputs": [],
   "source": [
    "def new_decorator(func):\n",
    "    def wrap_func():\n",
    "        print(\"some code before exec\")\n",
    "        func()\n",
    "        print(\"after func\")\n",
    "    return wrap_func"
   ]
  },
  {
   "cell_type": "code",
   "execution_count": 4,
   "id": "b02cca01",
   "metadata": {},
   "outputs": [],
   "source": [
    "import time\n",
    "\n",
    "@new_decorator\n",
    "def sleep():\n",
    "    time.sleep(10)\n",
    "    print(\"sleep\")"
   ]
  },
  {
   "cell_type": "code",
   "execution_count": 5,
   "id": "f7d34e4d",
   "metadata": {},
   "outputs": [
    {
     "name": "stdout",
     "output_type": "stream",
     "text": [
      "some code before exec\n",
      "sleep\n",
      "after func\n"
     ]
    }
   ],
   "source": [
    "sleep()"
   ]
  }
 ],
 "metadata": {
  "kernelspec": {
   "display_name": "Python 3",
   "language": "python",
   "name": "python3"
  },
  "language_info": {
   "codemirror_mode": {
    "name": "ipython",
    "version": 3
   },
   "file_extension": ".py",
   "mimetype": "text/x-python",
   "name": "python",
   "nbconvert_exporter": "python",
   "pygments_lexer": "ipython3",
   "version": "3.9.5"
  }
 },
 "nbformat": 4,
 "nbformat_minor": 5
}
